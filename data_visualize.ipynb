{
 "cells": [
  {
   "cell_type": "code",
   "execution_count": 1,
   "metadata": {},
   "outputs": [],
   "source": [
    "import pandas as pd\n",
    "import numpy as np"
   ]
  },
  {
   "cell_type": "code",
   "execution_count": 2,
   "metadata": {},
   "outputs": [],
   "source": [
    "import matplotlib.pyplot as plt"
   ]
  },
  {
   "cell_type": "code",
   "execution_count": 3,
   "metadata": {},
   "outputs": [],
   "source": [
    "#working with plots\n",
    "milk=pd.read_csv(\"https://raw.githubusercontent.com/ricardoscr/UW-Data-Science-Certificate/master/02-Methods/CADairyProduction.csv\")"
   ]
  },
  {
   "cell_type": "code",
   "execution_count": 4,
   "metadata": {},
   "outputs": [
    {
     "data": {
      "text/html": [
       "<div>\n",
       "<style scoped>\n",
       "    .dataframe tbody tr th:only-of-type {\n",
       "        vertical-align: middle;\n",
       "    }\n",
       "\n",
       "    .dataframe tbody tr th {\n",
       "        vertical-align: top;\n",
       "    }\n",
       "\n",
       "    .dataframe thead th {\n",
       "        text-align: right;\n",
       "    }\n",
       "</style>\n",
       "<table border=\"1\" class=\"dataframe\">\n",
       "  <thead>\n",
       "    <tr style=\"text-align: right;\">\n",
       "      <th></th>\n",
       "      <th>Year</th>\n",
       "      <th>Month</th>\n",
       "      <th>Cotagecheese.Prod</th>\n",
       "      <th>Icecream.Prod</th>\n",
       "      <th>Milk.Prod</th>\n",
       "      <th>N.CA.Fat.Price</th>\n",
       "      <th>Month.Count</th>\n",
       "      <th>monthNumSqred</th>\n",
       "      <th>monthNumCubed</th>\n",
       "    </tr>\n",
       "  </thead>\n",
       "  <tbody>\n",
       "    <tr>\n",
       "      <th>0</th>\n",
       "      <td>1995</td>\n",
       "      <td>Jan</td>\n",
       "      <td>4.370</td>\n",
       "      <td>51.595</td>\n",
       "      <td>2.112</td>\n",
       "      <td>0.9803</td>\n",
       "      <td>1</td>\n",
       "      <td>1</td>\n",
       "      <td>1</td>\n",
       "    </tr>\n",
       "    <tr>\n",
       "      <th>1</th>\n",
       "      <td>1995</td>\n",
       "      <td>Feb</td>\n",
       "      <td>3.695</td>\n",
       "      <td>56.086</td>\n",
       "      <td>1.932</td>\n",
       "      <td>0.8924</td>\n",
       "      <td>2</td>\n",
       "      <td>4</td>\n",
       "      <td>8</td>\n",
       "    </tr>\n",
       "    <tr>\n",
       "      <th>2</th>\n",
       "      <td>1995</td>\n",
       "      <td>Mar</td>\n",
       "      <td>4.538</td>\n",
       "      <td>68.453</td>\n",
       "      <td>2.162</td>\n",
       "      <td>0.8924</td>\n",
       "      <td>3</td>\n",
       "      <td>9</td>\n",
       "      <td>27</td>\n",
       "    </tr>\n",
       "    <tr>\n",
       "      <th>3</th>\n",
       "      <td>1995</td>\n",
       "      <td>Apr</td>\n",
       "      <td>4.280</td>\n",
       "      <td>65.722</td>\n",
       "      <td>2.130</td>\n",
       "      <td>0.8967</td>\n",
       "      <td>4</td>\n",
       "      <td>16</td>\n",
       "      <td>64</td>\n",
       "    </tr>\n",
       "    <tr>\n",
       "      <th>4</th>\n",
       "      <td>1995</td>\n",
       "      <td>May</td>\n",
       "      <td>4.470</td>\n",
       "      <td>73.730</td>\n",
       "      <td>2.227</td>\n",
       "      <td>0.8967</td>\n",
       "      <td>5</td>\n",
       "      <td>25</td>\n",
       "      <td>125</td>\n",
       "    </tr>\n",
       "  </tbody>\n",
       "</table>\n",
       "</div>"
      ],
      "text/plain": [
       "   Year Month  Cotagecheese.Prod  Icecream.Prod  Milk.Prod  N.CA.Fat.Price  \\\n",
       "0  1995   Jan              4.370         51.595      2.112          0.9803   \n",
       "1  1995   Feb              3.695         56.086      1.932          0.8924   \n",
       "2  1995   Mar              4.538         68.453      2.162          0.8924   \n",
       "3  1995   Apr              4.280         65.722      2.130          0.8967   \n",
       "4  1995   May              4.470         73.730      2.227          0.8967   \n",
       "\n",
       "   Month.Count  monthNumSqred  monthNumCubed  \n",
       "0            1              1              1  \n",
       "1            2              4              8  \n",
       "2            3              9             27  \n",
       "3            4             16             64  \n",
       "4            5             25            125  "
      ]
     },
     "execution_count": 4,
     "metadata": {},
     "output_type": "execute_result"
    }
   ],
   "source": [
    "milk.head()"
   ]
  },
  {
   "cell_type": "markdown",
   "metadata": {},
   "source": [
    "milk.shape()"
   ]
  },
  {
   "cell_type": "code",
   "execution_count": 10,
   "metadata": {},
   "outputs": [
    {
     "data": {
      "text/plain": [
       "(228, 9)"
      ]
     },
     "execution_count": 10,
     "metadata": {},
     "output_type": "execute_result"
    }
   ],
   "source": [
    "milk.shape"
   ]
  },
  {
   "cell_type": "code",
   "execution_count": 11,
   "metadata": {},
   "outputs": [
    {
     "data": {
      "text/plain": [
       "<bound method DataFrame.describe of      Year Month  Cotagecheese.Prod  Icecream.Prod  Milk.Prod  N.CA.Fat.Price  \\\n",
       "0    1995   Jan              4.370         51.595      2.112          0.9803   \n",
       "1    1995   Feb              3.695         56.086      1.932          0.8924   \n",
       "2    1995   Mar              4.538         68.453      2.162          0.8924   \n",
       "3    1995   Apr              4.280         65.722      2.130          0.8967   \n",
       "4    1995   May              4.470         73.730      2.227          0.8967   \n",
       "5    1995   Jun              4.238         77.994      2.124          0.9160   \n",
       "6    1995   Jul              4.377         81.475      2.184          0.9160   \n",
       "7    1995   Aug              4.368         74.981      2.152          0.8934   \n",
       "8    1995   Sep              3.917         61.530      2.062          0.8934   \n",
       "9    1995   Oct              4.078         60.022      2.121          0.9434   \n",
       "10   1995   Nov              3.611         52.772      2.030          0.9434   \n",
       "11   1995   Dec              3.591         50.850      2.091          1.0811   \n",
       "12   1996   Jan              3.698         53.116      2.109          1.0811   \n",
       "13   1996   Feb              3.429         57.463      1.996          1.1022   \n",
       "14   1996   Mar              3.717         68.929      2.173          1.1022   \n",
       "15   1996   Apr              3.688         69.673      2.163          1.0480   \n",
       "16   1996   May              3.897         77.387      2.233          1.0480   \n",
       "17   1996   Jun              3.756         86.814      2.142          1.0730   \n",
       "18   1996   Jul              4.099         83.006      2.182          1.0730   \n",
       "19   1996   Aug              3.979         79.260      2.129          1.2333   \n",
       "20   1996   Sep              3.730         69.216      2.138          1.2333   \n",
       "21   1996   Oct              4.214         64.556      2.215          1.3720   \n",
       "22   1996   Nov              4.418         54.378      2.156          1.3720   \n",
       "23   1996   Dec              3.323         53.291      2.212          1.3974   \n",
       "24   1997   Jan              3.761         55.565      2.177          1.3974   \n",
       "25   1997   Feb              3.404         58.962      2.028          1.0004   \n",
       "26   1997   Mar              3.552         72.866      2.361          1.0004   \n",
       "27   1997   Apr              3.489         74.965      2.358          1.0004   \n",
       "28   1997   May              3.398         75.425      2.417          1.0004   \n",
       "29   1997   Jun              3.670         85.133      2.314          1.0247   \n",
       "..    ...   ...                ...            ...        ...             ...   \n",
       "198  2011   Jul              2.790         89.326      3.535          2.4143   \n",
       "199  2011   Aug              3.429         89.949      3.502          2.2816   \n",
       "200  2011   Sep              2.328         76.134      3.312          2.3504   \n",
       "201  2011   Oct              2.730         67.334      3.428          2.2768   \n",
       "202  2011   Nov              2.508         60.303      3.343          1.9583   \n",
       "203  2011   Dec              2.151         52.829      3.496          2.0555   \n",
       "204  2012   Jan              2.493         69.463      3.617          1.8160   \n",
       "205  2012   Feb              2.218         67.259      3.506          1.7706   \n",
       "206  2012   Mar              2.788         78.959      3.804          1.6230   \n",
       "207  2012   Apr              2.602         82.236      3.632          1.5646   \n",
       "208  2012   May              2.602         87.093      3.744          1.6010   \n",
       "209  2012   Jun              2.816         88.012      3.523          1.4395   \n",
       "210  2012   Jul              2.893         85.400      3.498          1.5269   \n",
       "211  2012   Aug              3.044         80.328      3.304          1.6762   \n",
       "212  2012   Sep              2.924         71.003      3.184          1.8704   \n",
       "213  2012   Oct              2.641         70.840      3.307          2.0578   \n",
       "214  2012   Nov              2.347         56.506      3.264          2.1644   \n",
       "215  2012   Dec              2.455         53.870      3.418          2.1070   \n",
       "216  2013   Jan              2.282         62.612      3.462          1.7744   \n",
       "217  2013   Feb              1.941         66.274      3.231          1.6224   \n",
       "218  2013   Mar              2.150         75.770      3.676          1.6968   \n",
       "219  2013   Apr              2.217         76.396      3.622          1.7444   \n",
       "220  2013   May              2.341         80.899      3.720          1.8552   \n",
       "221  2013   Jun              2.694         92.091      3.489          1.8314   \n",
       "222  2013   Jul              2.433         84.026      3.373          1.6923   \n",
       "223  2013   Aug              2.169         78.382      3.400          1.6273   \n",
       "224  2013   Sep              2.193         74.871      3.197          1.5519   \n",
       "225  2013   Oct              2.284         70.011      3.338          1.5566   \n",
       "226  2013   Nov              1.865         61.394      3.275          1.7537   \n",
       "227  2013   Dec              2.345         53.653      3.473          1.6747   \n",
       "\n",
       "     Month.Count  monthNumSqred  monthNumCubed  \n",
       "0              1              1              1  \n",
       "1              2              4              8  \n",
       "2              3              9             27  \n",
       "3              4             16             64  \n",
       "4              5             25            125  \n",
       "5              6             36            216  \n",
       "6              7             49            343  \n",
       "7              8             64            512  \n",
       "8              9             81            729  \n",
       "9             10            100           1000  \n",
       "10            11            121           1331  \n",
       "11            12            144           1728  \n",
       "12            13            169           2197  \n",
       "13            14            196           2744  \n",
       "14            15            225           3375  \n",
       "15            16            256           4096  \n",
       "16            17            289           4913  \n",
       "17            18            324           5832  \n",
       "18            19            361           6859  \n",
       "19            20            400           8000  \n",
       "20            21            441           9261  \n",
       "21            22            484          10648  \n",
       "22            23            529          12167  \n",
       "23            24            576          13824  \n",
       "24            25            625          15625  \n",
       "25            26            676          17576  \n",
       "26            27            729          19683  \n",
       "27            28            784          21952  \n",
       "28            29            841          24389  \n",
       "29            30            900          27000  \n",
       "..           ...            ...            ...  \n",
       "198          199          39601        7880599  \n",
       "199          200          40000        8000000  \n",
       "200          201          40401        8120601  \n",
       "201          202          40804        8242408  \n",
       "202          203          41209        8365427  \n",
       "203          204          41616        8489664  \n",
       "204          205          42025        8615125  \n",
       "205          206          42436        8741816  \n",
       "206          207          42849        8869743  \n",
       "207          208          43264        8998912  \n",
       "208          209          43681        9129329  \n",
       "209          210          44100        9261000  \n",
       "210          211          44521        9393931  \n",
       "211          212          44944        9528128  \n",
       "212          213          45369        9663597  \n",
       "213          214          45796        9800344  \n",
       "214          215          46225        9938375  \n",
       "215          216          46656       10077696  \n",
       "216          217          47089       10218313  \n",
       "217          218          47524       10360232  \n",
       "218          219          47961       10503459  \n",
       "219          220          48400       10648000  \n",
       "220          221          48841       10793861  \n",
       "221          222          49284       10941048  \n",
       "222          223          49729       11089567  \n",
       "223          224          50176       11239424  \n",
       "224          225          50625       11390625  \n",
       "225          226          51076       11543176  \n",
       "226          227          51529       11697083  \n",
       "227          228          51984       11852352  \n",
       "\n",
       "[228 rows x 9 columns]>"
      ]
     },
     "execution_count": 11,
     "metadata": {},
     "output_type": "execute_result"
    }
   ],
   "source": [
    "milk.describe"
   ]
  },
  {
   "cell_type": "code",
   "execution_count": 5,
   "metadata": {},
   "outputs": [
    {
     "data": {
      "text/plain": [
       "<matplotlib.axes._subplots.AxesSubplot at 0x7f36c65c6ed0>"
      ]
     },
     "execution_count": 5,
     "metadata": {},
     "output_type": "execute_result"
    },
    {
     "data": {
      "image/png": "[encoded data removed]",
      "text/plain": [
       "<Figure size 432x288 with 1 Axes>"
      ]
     },
     "metadata": {
      "needs_background": "light"
     },
     "output_type": "display_data"
    }
   ],
   "source": [
    "#plotting graph for all attributes\n",
    "milk.plot()"
   ]
  },
  {
   "cell_type": "code",
   "execution_count": 6,
   "metadata": {},
   "outputs": [
    {
     "data": {
      "text/plain": [
       "Text(0,0.5,'milk production')"
      ]
     },
     "execution_count": 6,
     "metadata": {},
     "output_type": "execute_result"
    },
    {
     "data": {
      "image/png": "[encoded data removed]",
      "text/plain": [
       "<Figure size 432x288 with 1 Axes>"
      ]
     },
     "metadata": {
      "needs_background": "light"
     },
     "output_type": "display_data"
    }
   ],
   "source": [
    "#bar graph\n",
    "plt.bar(milk[\"Year\"],milk[\"Milk.Prod\"])\n",
    "plt.xlabel(\"year\")\n",
    "plt.ylabel(\"milk production\")"
   ]
  },
  {
   "cell_type": "code",
   "execution_count": 7,
   "metadata": {},
   "outputs": [
    {
     "data": {
      "text/plain": [
       "<matplotlib.axes._subplots.AxesSubplot at 0x7f36c3bb3e10>"
      ]
     },
     "execution_count": 7,
     "metadata": {},
     "output_type": "execute_result"
    },
    {
     "data": {
      "image/png": "[encoded data removed]",
      "text/plain": [
       "<Figure size 432x288 with 1 Axes>"
      ]
     },
     "metadata": {
      "needs_background": "light"
     },
     "output_type": "display_data"
    }
   ],
   "source": [
    "milk.plot(x=\"Year\", y=\"Milk.Prod\")"
   ]
  },
  {
   "cell_type": "code",
   "execution_count": 8,
   "metadata": {},
   "outputs": [
    {
     "data": {
      "text/plain": [
       "<matplotlib.axes._subplots.AxesSubplot at 0x7f36c38a3b50>"
      ]
     },
     "execution_count": 8,
     "metadata": {},
     "output_type": "execute_result"
    },
    {
     "data": {
      "image/png": "[encoded data removed]",
      "text/plain": [
       "<Figure size 432x288 with 1 Axes>"
      ]
     },
     "metadata": {
      "needs_background": "light"
     },
     "output_type": "display_data"
    }
   ],
   "source": [
    "#scatter grpah\n",
    "milk.plot(kind=\"scatter\", x=\"Year\",y=\"Milk.Prod\",color=\"green\")"
   ]
  },
  {
   "cell_type": "code",
   "execution_count": 12,
   "metadata": {},
   "outputs": [],
   "source": [
    "#creating new data sete for more visualization.\n",
    "#using pandas dataframe.\n",
    "\n",
    "df = pd.DataFrame({\n",
    "    'name':['john','mary','peter','jeff','bill','lisa','jose'],\n",
    "    'age':[23,78,22,19,45,33,20],\n",
    "    'gender':['M','F','M','M','M','F','M'],\n",
    "    'state':['california','dc','california','dc','california','texas','texas'],\n",
    "    'num_children':[2,0,0,3,2,1,4],\n",
    "    'num_pets':[5,1,0,5,2,2,3]\n",
    "})"
   ]
  },
  {
   "cell_type": "code",
   "execution_count": 13,
   "metadata": {},
   "outputs": [
    {
     "data": {
      "text/html": [
       "<div>\n",
       "<style scoped>\n",
       "    .dataframe tbody tr th:only-of-type {\n",
       "        vertical-align: middle;\n",
       "    }\n",
       "\n",
       "    .dataframe tbody tr th {\n",
       "        vertical-align: top;\n",
       "    }\n",
       "\n",
       "    .dataframe thead th {\n",
       "        text-align: right;\n",
       "    }\n",
       "</style>\n",
       "<table border=\"1\" class=\"dataframe\">\n",
       "  <thead>\n",
       "    <tr style=\"text-align: right;\">\n",
       "      <th></th>\n",
       "      <th>age</th>\n",
       "      <th>gender</th>\n",
       "      <th>name</th>\n",
       "      <th>num_children</th>\n",
       "      <th>num_pets</th>\n",
       "      <th>state</th>\n",
       "    </tr>\n",
       "  </thead>\n",
       "  <tbody>\n",
       "    <tr>\n",
       "      <th>0</th>\n",
       "      <td>23</td>\n",
       "      <td>M</td>\n",
       "      <td>john</td>\n",
       "      <td>2</td>\n",
       "      <td>5</td>\n",
       "      <td>california</td>\n",
       "    </tr>\n",
       "    <tr>\n",
       "      <th>1</th>\n",
       "      <td>78</td>\n",
       "      <td>F</td>\n",
       "      <td>mary</td>\n",
       "      <td>0</td>\n",
       "      <td>1</td>\n",
       "      <td>dc</td>\n",
       "    </tr>\n",
       "    <tr>\n",
       "      <th>2</th>\n",
       "      <td>22</td>\n",
       "      <td>M</td>\n",
       "      <td>peter</td>\n",
       "      <td>0</td>\n",
       "      <td>0</td>\n",
       "      <td>california</td>\n",
       "    </tr>\n",
       "    <tr>\n",
       "      <th>3</th>\n",
       "      <td>19</td>\n",
       "      <td>M</td>\n",
       "      <td>jeff</td>\n",
       "      <td>3</td>\n",
       "      <td>5</td>\n",
       "      <td>dc</td>\n",
       "    </tr>\n",
       "    <tr>\n",
       "      <th>4</th>\n",
       "      <td>45</td>\n",
       "      <td>M</td>\n",
       "      <td>bill</td>\n",
       "      <td>2</td>\n",
       "      <td>2</td>\n",
       "      <td>california</td>\n",
       "    </tr>\n",
       "    <tr>\n",
       "      <th>5</th>\n",
       "      <td>33</td>\n",
       "      <td>F</td>\n",
       "      <td>lisa</td>\n",
       "      <td>1</td>\n",
       "      <td>2</td>\n",
       "      <td>texas</td>\n",
       "    </tr>\n",
       "    <tr>\n",
       "      <th>6</th>\n",
       "      <td>20</td>\n",
       "      <td>M</td>\n",
       "      <td>jose</td>\n",
       "      <td>4</td>\n",
       "      <td>3</td>\n",
       "      <td>texas</td>\n",
       "    </tr>\n",
       "  </tbody>\n",
       "</table>\n",
       "</div>"
      ],
      "text/plain": [
       "   age gender   name  num_children  num_pets       state\n",
       "0   23      M   john             2         5  california\n",
       "1   78      F   mary             0         1          dc\n",
       "2   22      M  peter             0         0  california\n",
       "3   19      M   jeff             3         5          dc\n",
       "4   45      M   bill             2         2  california\n",
       "5   33      F   lisa             1         2       texas\n",
       "6   20      M   jose             4         3       texas"
      ]
     },
     "execution_count": 13,
     "metadata": {},
     "output_type": "execute_result"
    }
   ],
   "source": [
    "df"
   ]
  },
  {
   "cell_type": "code",
   "execution_count": 15,
   "metadata": {},
   "outputs": [
    {
     "data": {
      "text/plain": [
       "<matplotlib.axes._subplots.AxesSubplot at 0x7f36c37bd810>"
      ]
     },
     "execution_count": 15,
     "metadata": {},
     "output_type": "execute_result"
    },
    {
     "data": {
      "image/png": "[encoded data removed]",
      "text/plain": [
       "<Figure size 432x288 with 1 Axes>"
      ]
     },
     "metadata": {
      "needs_background": "light"
     },
     "output_type": "display_data"
    }
   ],
   "source": [
    "df.plot()"
   ]
  },
  {
   "cell_type": "code",
   "execution_count": 16,
   "metadata": {},
   "outputs": [
    {
     "data": {
      "text/plain": [
       "<matplotlib.axes._subplots.AxesSubplot at 0x7f36c3749bd0>"
      ]
     },
     "execution_count": 16,
     "metadata": {},
     "output_type": "execute_result"
    },
    {
     "data": {
      "image/png": "[encoded data removed]",
      "text/plain": [
       "<Figure size 432x288 with 1 Axes>"
      ]
     },
     "metadata": {
      "needs_background": "light"
     },
     "output_type": "display_data"
    }
   ],
   "source": [
    "#creating histogram\n",
    "df[['age']].plot(kind='hist',bins=[0,10,20,30,40,50,60,70,80],rwidth=0.8)"
   ]
  },
  {
   "cell_type": "code",
   "execution_count": 23,
   "metadata": {},
   "outputs": [
    {
     "data": {
      "image/png": "[encoded data removed]",
      "text/plain": [
       "<Figure size 432x288 with 1 Axes>"
      ]
     },
     "metadata": {},
     "output_type": "display_data"
    }
   ],
   "source": [
    "#pie chart\n",
    "import matplotlib.pyplot as plt\n",
    "slices=[7,3,2,1]\n",
    "activities=[\"sleeping\",\"study\",\"eating\",\"running\"]\n",
    "cols = ['c','g','r','yellow']\n",
    "\n",
    "plt.pie(slices,\n",
    "        labels=activities,\n",
    "        colors=cols,\n",
    "        startangle=90,\n",
    "        shadow= True,\n",
    "        explode=(0,0.1,0.2,0),\n",
    "        autopct='%1.1f%%')\n",
    "\n",
    "plt.title('Interesting Graph\\nCheck it out')\n",
    "plt.show()\n"
   ]
  },
  {
   "cell_type": "code",
   "execution_count": 21,
   "metadata": {},
   "outputs": [
    {
     "data": {
      "text/plain": [
       "<matplotlib.axes._subplots.AxesSubplot at 0x7f36c3519cd0>"
      ]
     },
     "execution_count": 21,
     "metadata": {},
     "output_type": "execute_result"
    },
    {
     "data": {
      "image/png": "[encoded data removed]",
      "text/plain": [
       "<Figure size 432x288 with 1 Axes>"
      ]
     },
     "metadata": {
      "needs_background": "light"
     },
     "output_type": "display_data"
    }
   ],
   "source": [
    "#only numerical values will be shown in the graph\n",
    "#the other values will be automatically discarded.\n",
    "df.plot(kind=\"bar\")\n"
   ]
  },
  {
   "cell_type": "code",
   "execution_count": null,
   "metadata": {},
   "outputs": [],
   "source": []
  }
 ],
 "metadata": {
  "kernelspec": {
   "display_name": "Python 3",
   "language": "python",
   "name": "python3"
  },
  "language_info": {
   "codemirror_mode": {
    "name": "ipython",
    "version": 2
   },
   "file_extension": ".py",
   "mimetype": "text/x-python",
   "name": "python",
   "nbconvert_exporter": "python",
   "pygments_lexer": "ipython2",
   "version": "2.7.17"
  }
 },
 "nbformat": 4,
 "nbformat_minor": 2
}
